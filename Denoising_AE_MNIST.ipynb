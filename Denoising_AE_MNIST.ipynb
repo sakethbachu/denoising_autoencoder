{
  "nbformat": 4,
  "nbformat_minor": 0,
  "metadata": {
    "colab": {
      "name": "Denoising AE - MNIST",
      "provenance": [],
      "collapsed_sections": [],
      "authorship_tag": "ABX9TyMIDL0b9g2jDJVazInnb/nE",
      "include_colab_link": true
    },
    "kernelspec": {
      "name": "python3",
      "display_name": "Python 3"
    }
  },
  "cells": [
    {
      "cell_type": "markdown",
      "metadata": {
        "id": "view-in-github",
        "colab_type": "text"
      },
      "source": [
        "<a href=\"https://colab.research.google.com/github/sakethbachu/denoising_autoencoder/blob/master/Denoising_AE_MNIST.ipynb\" target=\"_parent\"><img src=\"https://colab.research.google.com/assets/colab-badge.svg\" alt=\"Open In Colab\"/></a>"
      ]
    },
    {
      "cell_type": "code",
      "metadata": {
        "id": "NMmo82PUNWE1",
        "colab_type": "code",
        "colab": {}
      },
      "source": [
        "# Importing packages that will be necessary for the project\n",
        "import numpy as np\n",
        "from keras.datasets import mnist\n",
        "import matplotlib.pyplot as plt\n",
        "from tqdm import tqdm\n",
        "from torchvision import transforms\n",
        "import torch.nn as nn\n",
        "from torch.utils.data import DataLoader,Dataset\n",
        "import torch\n",
        "import torch.optim as optim\n",
        "from torch.autograd import Variable"
      ],
      "execution_count": null,
      "outputs": []
    },
    {
      "cell_type": "code",
      "metadata": {
        "id": "SjqvNdlBN7iN",
        "colab_type": "code",
        "colab": {
          "base_uri": "https://localhost:8080/",
          "height": 121
        },
        "outputId": "2d373ae1-a4b9-4765-c365-724d09d2efc8"
      },
      "source": [
        "# Mounting the google drive to fetch data from it\n",
        "from google.colab import drive\n",
        "drive.mount('/content/gdrive')"
      ],
      "execution_count": null,
      "outputs": [
        {
          "output_type": "stream",
          "text": [
            "Go to this URL in a browser: https://accounts.google.com/o/oauth2/auth?client_id=947318989803-6bn6qk8qdgf4n4g3pfee6491hc0brc4i.apps.googleusercontent.com&redirect_uri=urn%3aietf%3awg%3aoauth%3a2.0%3aoob&response_type=code&scope=email%20https%3a%2f%2fwww.googleapis.com%2fauth%2fdocs.test%20https%3a%2f%2fwww.googleapis.com%2fauth%2fdrive%20https%3a%2f%2fwww.googleapis.com%2fauth%2fdrive.photos.readonly%20https%3a%2f%2fwww.googleapis.com%2fauth%2fpeopleapi.readonly\n",
            "\n",
            "Enter your authorization code:\n",
            "··········\n",
            "Mounted at /content/gdrive\n"
          ],
          "name": "stdout"
        }
      ]
    },
    {
      "cell_type": "code",
      "metadata": {
        "id": "ousoqc3OPe91",
        "colab_type": "code",
        "colab": {
          "base_uri": "https://localhost:8080/",
          "height": 84
        },
        "outputId": "7ad21e9c-9916-41f0-bb7c-2f296d58086e"
      },
      "source": [
        "#loading the mnist data\n",
        "(x_train,y_train),(x_test,y_test)=mnist.load_data()\n",
        "print(\"No of train datapoints:{}\\nNo of test datapoints:{}\".format(len(x_train),len(x_test)))"
      ],
      "execution_count": null,
      "outputs": [
        {
          "output_type": "stream",
          "text": [
            "Downloading data from https://storage.googleapis.com/tensorflow/tf-keras-datasets/mnist.npz\n",
            "11493376/11490434 [==============================] - 0s 0us/step\n",
            "No of train datapoints:60000\n",
            "No of test datapoints:10000\n"
          ],
          "name": "stdout"
        }
      ]
    },
    {
      "cell_type": "code",
      "metadata": {
        "id": "y2K5s30TjUNx",
        "colab_type": "code",
        "colab": {
          "base_uri": "https://localhost:8080/",
          "height": 34
        },
        "outputId": "11a8242d-896c-4f00-f4fc-bbb143d94545"
      },
      "source": [
        "print(y_train[1]) # Checking labels"
      ],
      "execution_count": null,
      "outputs": [
        {
          "output_type": "stream",
          "text": [
            "0\n"
          ],
          "name": "stdout"
        }
      ]
    },
    {
      "cell_type": "code",
      "metadata": {
        "id": "CzxQKgMXQFrZ",
        "colab_type": "code",
        "colab": {}
      },
      "source": [
        "#we add the noise \n",
        "\"\"\"\n",
        "    'gauss'     Gaussian-distributed additive noise.\n",
        "    'speckle'   out = image + n*image,where\n",
        "                n is uniform noise with specified mean & variance.       \n",
        "\"\"\"\n",
        "\n",
        "def add_noise(img,noise_type=\"gaussian\"):#input includes the type of the noise to be added and the input image\n",
        "  \n",
        "  row,col=28,28\n",
        "  img=img.astype(np.float32)\n",
        "  \n",
        "  if noise_type==\"gaussian\":\n",
        "    noise=np.random.normal(-5.9,5.9,img.shape) #input includes : mean, deviation, shape of the image and the function picks up a normal distribuition.\n",
        "    noise=noise.reshape(row,col) # reshaping the noise \n",
        "    img=img+noise #adding the noise\n",
        "    return img\n",
        "\n",
        "  if noise_type==\"speckle\":\n",
        "    noise=np.random.randn(row,col)\n",
        "    noise=noise.reshape(row,col)\n",
        "    img=img+img*noise\n",
        "    return img"
      ],
      "execution_count": null,
      "outputs": []
    },
    {
      "cell_type": "code",
      "metadata": {
        "id": "qTgtuQc4WgW7",
        "colab_type": "code",
        "colab": {
          "base_uri": "https://localhost:8080/",
          "height": 185
        },
        "outputId": "436f6828-72e3-4d37-a8b5-a1e2e85c8ff4"
      },
      "source": [
        "#Now dividing the dataset into two parts and adding gaussian to one and speckle to another.\n",
        "noises=[\"gaussian\",\"speckle\"]\n",
        "noise_ct=0\n",
        "noise_id=0 #id represnts which noise is being added, its 0 = gaussian and 1 = speckle\n",
        "traindata=np.zeros((60000,28,28)) #revised training data\n",
        "\n",
        "\n",
        "\n",
        "for idx in tqdm(range(len(x_train))): #for the first half we are using gaussian noise & for the second half speckle noise\n",
        "  \n",
        "  if noise_ct<(len(x_train)/2):\n",
        "    noise_ct+=1\n",
        "    traindata[idx]=add_noise(x_train[idx],noise_type=noises[noise_id])\n",
        "    \n",
        "  else:\n",
        "    print(\"\\n{} noise addition completed to images\".format(noises[noise_id]))\n",
        "    noise_id+=1\n",
        "    noise_ct=0\n",
        "\n",
        "\n",
        "print(\"\\n{} noise addition completed to images\".format(noises[noise_id])) \n",
        "\n",
        "\n",
        "\n",
        "\n",
        "noise_ct=0\n",
        "noise_id=0\n",
        "testdata=np.zeros((10000,28,28))\n",
        "\n",
        "for idx in tqdm(range(len(x_test))): # Doing the same for the test set.\n",
        "  \n",
        "  if noise_ct<(len(x_test)/2):\n",
        "    noise_ct+=1\n",
        "    x=add_noise(x_test[idx],noise_type=noises[noise_id])\n",
        "    testdata[idx]=x\n",
        "    \n",
        "  else:\n",
        "    print(\"\\n{} noise addition completed to images\".format(noises[noise_id]))\n",
        "    noise_id+=1\n",
        "    noise_ct=0\n",
        "\n",
        "\n",
        "print(\"\\n{} noise addition completed to images\".format(noises[noise_id]))"
      ],
      "execution_count": null,
      "outputs": [
        {
          "output_type": "stream",
          "text": [
            " 53%|█████▎    | 32057/60000 [00:01<00:01, 19218.50it/s]"
          ],
          "name": "stderr"
        },
        {
          "output_type": "stream",
          "text": [
            "\n",
            "gaussian noise addition completed to images\n"
          ],
          "name": "stdout"
        },
        {
          "output_type": "stream",
          "text": [
            "100%|██████████| 60000/60000 [00:03<00:00, 19260.63it/s]\n",
            " 20%|██        | 2049/10000 [00:00<00:00, 20486.45it/s]"
          ],
          "name": "stderr"
        },
        {
          "output_type": "stream",
          "text": [
            "\n",
            "speckle noise addition completed to images\n"
          ],
          "name": "stdout"
        },
        {
          "output_type": "stream",
          "text": [
            " 78%|███████▊  | 7793/10000 [00:00<00:00, 19490.98it/s]"
          ],
          "name": "stderr"
        },
        {
          "output_type": "stream",
          "text": [
            "\n",
            "gaussian noise addition completed to images\n"
          ],
          "name": "stdout"
        },
        {
          "output_type": "stream",
          "text": [
            "100%|██████████| 10000/10000 [00:00<00:00, 18849.68it/s]"
          ],
          "name": "stderr"
        },
        {
          "output_type": "stream",
          "text": [
            "\n",
            "speckle noise addition completed to images\n"
          ],
          "name": "stdout"
        },
        {
          "output_type": "stream",
          "text": [
            "\n"
          ],
          "name": "stderr"
        }
      ]
    },
    {
      "cell_type": "code",
      "metadata": {
        "id": "awvAR8L3S0m7",
        "colab_type": "code",
        "colab": {
          "base_uri": "https://localhost:8080/",
          "height": 298
        },
        "outputId": "b2fd3090-0569-45e8-85ff-2fa9ac605cdd"
      },
      "source": [
        "f, axes=plt.subplots(2,2) #setting up 4 figures\n",
        "\n",
        "#showing images with gaussian noise\n",
        "axes[0,0].imshow(x_train[0],cmap=\"gray\")#the original data\n",
        "axes[0,0].set_title(\"Original Image\")\n",
        "axes[1,0].imshow(traindata[0],cmap='gray')#noised data\n",
        "axes[1,0].set_title(\"Noised Image\")\n",
        "\n",
        "#showing images with speckle noise\n",
        "axes[0,1].imshow(x_train[25000],cmap='gray')#original data\n",
        "axes[0,1].set_title(\"Original Image\")\n",
        "axes[1,1].imshow(traindata[25000],cmap=\"gray\")#noised data\n",
        "axes[1,1].set_title(\"Noised Image\")"
      ],
      "execution_count": null,
      "outputs": [
        {
          "output_type": "execute_result",
          "data": {
            "text/plain": [
              "Text(0.5, 1.0, 'Noised Image')"
            ]
          },
          "metadata": {
            "tags": []
          },
          "execution_count": 6
        },
        {
          "output_type": "display_data",
          "data": {
            "image/png": "[encoded data removed]",
            "text/plain": [
              "<Figure size 432x288 with 4 Axes>"
            ]
          },
          "metadata": {
            "tags": [],
            "needs_background": "light"
          }
        }
      ]
    },
    {
      "cell_type": "code",
      "metadata": {
        "id": "UozRbHbAVGEc",
        "colab_type": "code",
        "colab": {}
      },
      "source": [
        "#creating a dataset builder i.e dataloaders\n",
        "class noisedDataset(Dataset):\n",
        "  \n",
        "  def __init__(self,datasetnoised,datasetclean,labels,transform):\n",
        "    self.noise=datasetnoised\n",
        "    self.clean=datasetclean\n",
        "    self.labels=labels\n",
        "    self.transform=transform\n",
        "  \n",
        "  def __len__(self):\n",
        "    return len(self.noise)\n",
        "  \n",
        "  def __getitem__(self,idx):\n",
        "    xNoise=self.noise[idx]\n",
        "    xClean=self.clean[idx]\n",
        "    y=self.labels[idx]\n",
        "    \n",
        "    if self.transform != None:#just for using the totensor transform\n",
        "      xNoise=self.transform(xNoise)\n",
        "      xClean=self.transform(xClean)\n",
        "      \n",
        "    \n",
        "    return (xNoise,xClean,y)"
      ],
      "execution_count": null,
      "outputs": []
    },
    {
      "cell_type": "code",
      "metadata": {
        "id": "vmNriciwWD3t",
        "colab_type": "code",
        "colab": {}
      },
      "source": [
        "#defining the totensor transforms\n",
        "tsfms=transforms.Compose([\n",
        "    transforms.ToTensor()\n",
        "])\n",
        "\n",
        "trainset=noisedDataset(traindata,x_train,y_train,tsfms)# the labels should not be corrupted because the model has to learn uniques features and denoise it.\n",
        "testset=noisedDataset(testdata,x_test,y_test,tsfms)"
      ],
      "execution_count": null,
      "outputs": []
    },
    {
      "cell_type": "code",
      "metadata": {
        "id": "xoNaIxknWyme",
        "colab_type": "code",
        "colab": {}
      },
      "source": [
        "batch_size=32\n",
        "\n",
        "\n",
        "#creating the dataloader\n",
        "trainloader=DataLoader(trainset,batch_size=32,shuffle=True)\n",
        "testloader=DataLoader(testset,batch_size=1,shuffle=True)"
      ],
      "execution_count": null,
      "outputs": []
    },
    {
      "cell_type": "code",
      "metadata": {
        "id": "4Dr-0ta2XuVn",
        "colab_type": "code",
        "colab": {}
      },
      "source": [
        "#building our ae model:\n",
        "class denoising_model(nn.Module):\n",
        "  def __init__(self):\n",
        "    super(denoising_model,self).__init__()\n",
        "    self.encoder=nn.Sequential(\n",
        "                  nn.Linear(28*28,256),#decreasing the features in the encoder\n",
        "                  nn.ReLU(True),\n",
        "                  nn.Linear(256,128),\n",
        "                  nn.ReLU(True),\n",
        "                  nn.Linear(128,64),\n",
        "                  nn.ReLU(True)\n",
        "        \n",
        "                  )\n",
        "    \n",
        "    self.decoder=nn.Sequential(\n",
        "                  nn.Linear(64,128),#increasing the number of features\n",
        "                  nn.ReLU(True),\n",
        "                  nn.Linear(128,256),\n",
        "                  nn.ReLU(True),\n",
        "                  nn.Linear(256,28*28),\n",
        "                  nn.Sigmoid(),\n",
        "                  )\n",
        "    \n",
        " \n",
        "  def forward(self,x):\n",
        "    x=self.encoder(x)#first the encoder\n",
        "    x=self.decoder(x)#then the decoder to reconstruct the original input.\n",
        "    \n",
        "    return x"
      ],
      "execution_count": null,
      "outputs": []
    },
    {
      "cell_type": "code",
      "metadata": {
        "id": "9ayuj7oxcxBk",
        "colab_type": "code",
        "colab": {
          "base_uri": "https://localhost:8080/",
          "height": 1000
        },
        "outputId": "a482a481-61ac-4794-878e-3135355b02c7"
      },
      "source": [
        "if torch.cuda.is_available()==True:\n",
        "  device=\"cuda:0\"\n",
        "else:\n",
        "  device =\"cpu\"\n",
        "\n",
        "  \n",
        "model=denoising_model().to(device)\n",
        "criterion=nn.MSELoss()\n",
        "optimizer=optim.SGD(model.parameters(),lr=0.01,weight_decay=1e-5)\n",
        "\n",
        "\n",
        "epochs=120\n",
        "l=len(trainloader)\n",
        "losslist=list()\n",
        "epochloss=0\n",
        "running_loss=0\n",
        "for epoch in range(epochs):\n",
        "  \n",
        "  print(\"Entering Epoch: \",epoch)\n",
        "  for dirty,clean,label in tqdm((trainloader)):\n",
        "    \n",
        "    \n",
        "    dirty=dirty.view(dirty.size(0),-1).type(torch.FloatTensor)\n",
        "    clean=clean.view(clean.size(0),-1).type(torch.FloatTensor)\n",
        "    dirty,clean=dirty.to(device),clean.to(device)\n",
        "    \n",
        "    \n",
        "    \n",
        "    #-----------------Forward Pass----------------------\n",
        "    output=model(dirty)\n",
        "    loss=criterion(output,clean)\n",
        "    #-----------------Backward Pass---------------------\n",
        "    optimizer.zero_grad()\n",
        "    loss.backward()\n",
        "    optimizer.step()\n",
        "    \n",
        "    running_loss+=loss.item()\n",
        "    epochloss+=loss.item()\n",
        "  #-----------------Log-------------------------------\n",
        "  losslist.append(running_loss/l)\n",
        "  running_loss=0\n",
        "  print(\"======> epoch: {}/{}, Loss:{}\".format(epoch,epochs,loss.item()))"
      ],
      "execution_count": 11,
      "outputs": [
        {
          "output_type": "stream",
          "text": [
            "\r  0%|          | 0/1875 [00:00<?, ?it/s]"
          ],
          "name": "stderr"
        },
        {
          "output_type": "stream",
          "text": [
            "Entering Epoch:  0\n"
          ],
          "name": "stdout"
        },
        {
          "output_type": "stream",
          "text": [
            "100%|██████████| 1875/1875 [00:11<00:00, 168.37it/s]\n",
            "  1%|          | 19/1875 [00:00<00:10, 181.55it/s]"
          ],
          "name": "stderr"
        },
        {
          "output_type": "stream",
          "text": [
            "======> epoch: 0/120, Loss:0.07655805349349976\n",
            "Entering Epoch:  1\n"
          ],
          "name": "stdout"
        },
        {
          "output_type": "stream",
          "text": [
            "100%|██████████| 1875/1875 [00:11<00:00, 169.94it/s]\n",
            "  1%|          | 16/1875 [00:00<00:12, 151.96it/s]"
          ],
          "name": "stderr"
        },
        {
          "output_type": "stream",
          "text": [
            "======> epoch: 1/120, Loss:0.06866743415594101\n",
            "Entering Epoch:  2\n"
          ],
          "name": "stdout"
        },
        {
          "output_type": "stream",
          "text": [
            "100%|██████████| 1875/1875 [00:11<00:00, 163.23it/s]\n",
            "  1%|          | 16/1875 [00:00<00:12, 154.73it/s]"
          ],
          "name": "stderr"
        },
        {
          "output_type": "stream",
          "text": [
            "======> epoch: 2/120, Loss:0.0734129250049591\n",
            "Entering Epoch:  3\n"
          ],
          "name": "stdout"
        },
        {
          "output_type": "stream",
          "text": [
            "100%|██████████| 1875/1875 [00:11<00:00, 166.60it/s]\n",
            "  1%|          | 16/1875 [00:00<00:11, 158.49it/s]"
          ],
          "name": "stderr"
        },
        {
          "output_type": "stream",
          "text": [
            "======> epoch: 3/120, Loss:0.06309104710817337\n",
            "Entering Epoch:  4\n"
          ],
          "name": "stdout"
        },
        {
          "output_type": "stream",
          "text": [
            "100%|██████████| 1875/1875 [00:11<00:00, 165.53it/s]\n",
            "  1%|          | 14/1875 [00:00<00:14, 131.77it/s]"
          ],
          "name": "stderr"
        },
        {
          "output_type": "stream",
          "text": [
            "======> epoch: 4/120, Loss:0.07221430540084839\n",
            "Entering Epoch:  5\n"
          ],
          "name": "stdout"
        },
        {
          "output_type": "stream",
          "text": [
            "100%|██████████| 1875/1875 [00:11<00:00, 163.61it/s]\n",
            "  1%|          | 17/1875 [00:00<00:11, 165.56it/s]"
          ],
          "name": "stderr"
        },
        {
          "output_type": "stream",
          "text": [
            "======> epoch: 5/120, Loss:0.060313016176223755\n",
            "Entering Epoch:  6\n"
          ],
          "name": "stdout"
        },
        {
          "output_type": "stream",
          "text": [
            "100%|██████████| 1875/1875 [00:11<00:00, 157.35it/s]\n",
            "  1%|          | 15/1875 [00:00<00:12, 143.50it/s]"
          ],
          "name": "stderr"
        },
        {
          "output_type": "stream",
          "text": [
            "======> epoch: 6/120, Loss:0.0545106865465641\n",
            "Entering Epoch:  7\n"
          ],
          "name": "stdout"
        },
        {
          "output_type": "stream",
          "text": [
            "100%|██████████| 1875/1875 [00:11<00:00, 163.06it/s]\n",
            "  1%|          | 15/1875 [00:00<00:12, 145.40it/s]"
          ],
          "name": "stderr"
        },
        {
          "output_type": "stream",
          "text": [
            "======> epoch: 7/120, Loss:0.05784629285335541\n",
            "Entering Epoch:  8\n"
          ],
          "name": "stdout"
        },
        {
          "output_type": "stream",
          "text": [
            "100%|██████████| 1875/1875 [00:11<00:00, 157.29it/s]\n",
            "  1%|          | 16/1875 [00:00<00:11, 157.58it/s]"
          ],
          "name": "stderr"
        },
        {
          "output_type": "stream",
          "text": [
            "======> epoch: 8/120, Loss:0.05313542112708092\n",
            "Entering Epoch:  9\n"
          ],
          "name": "stdout"
        },
        {
          "output_type": "stream",
          "text": [
            "100%|██████████| 1875/1875 [00:11<00:00, 160.99it/s]\n",
            "  1%|          | 15/1875 [00:00<00:12, 147.76it/s]"
          ],
          "name": "stderr"
        },
        {
          "output_type": "stream",
          "text": [
            "======> epoch: 9/120, Loss:0.0563567578792572\n",
            "Entering Epoch:  10\n"
          ],
          "name": "stdout"
        },
        {
          "output_type": "stream",
          "text": [
            "100%|██████████| 1875/1875 [00:11<00:00, 158.25it/s]\n",
            "  1%|          | 17/1875 [00:00<00:11, 166.63it/s]"
          ],
          "name": "stderr"
        },
        {
          "output_type": "stream",
          "text": [
            "======> epoch: 10/120, Loss:0.05097239464521408\n",
            "Entering Epoch:  11\n"
          ],
          "name": "stdout"
        },
        {
          "output_type": "stream",
          "text": [
            "100%|██████████| 1875/1875 [00:12<00:00, 153.01it/s]\n",
            "  1%|          | 14/1875 [00:00<00:13, 139.44it/s]"
          ],
          "name": "stderr"
        },
        {
          "output_type": "stream",
          "text": [
            "======> epoch: 11/120, Loss:0.04794689267873764\n",
            "Entering Epoch:  12\n"
          ],
          "name": "stdout"
        },
        {
          "output_type": "stream",
          "text": [
            "100%|██████████| 1875/1875 [00:12<00:00, 149.28it/s]\n",
            "  1%|          | 17/1875 [00:00<00:11, 161.49it/s]"
          ],
          "name": "stderr"
        },
        {
          "output_type": "stream",
          "text": [
            "======> epoch: 12/120, Loss:0.048914652317762375\n",
            "Entering Epoch:  13\n"
          ],
          "name": "stdout"
        },
        {
          "output_type": "stream",
          "text": [
            "100%|██████████| 1875/1875 [00:12<00:00, 148.94it/s]\n",
            "  1%|          | 15/1875 [00:00<00:12, 144.82it/s]"
          ],
          "name": "stderr"
        },
        {
          "output_type": "stream",
          "text": [
            "======> epoch: 13/120, Loss:0.042824044823646545\n",
            "Entering Epoch:  14\n"
          ],
          "name": "stdout"
        },
        {
          "output_type": "stream",
          "text": [
            "100%|██████████| 1875/1875 [00:12<00:00, 150.85it/s]\n",
            "  1%|          | 15/1875 [00:00<00:13, 142.62it/s]"
          ],
          "name": "stderr"
        },
        {
          "output_type": "stream",
          "text": [
            "======> epoch: 14/120, Loss:0.04233626276254654\n",
            "Entering Epoch:  15\n"
          ],
          "name": "stdout"
        },
        {
          "output_type": "stream",
          "text": [
            "100%|██████████| 1875/1875 [00:12<00:00, 146.37it/s]\n",
            "  1%|          | 16/1875 [00:00<00:12, 151.46it/s]"
          ],
          "name": "stderr"
        },
        {
          "output_type": "stream",
          "text": [
            "======> epoch: 15/120, Loss:0.04042591527104378\n",
            "Entering Epoch:  16\n"
          ],
          "name": "stdout"
        },
        {
          "output_type": "stream",
          "text": [
            "100%|██████████| 1875/1875 [00:13<00:00, 143.98it/s]\n",
            "  1%|          | 12/1875 [00:00<00:16, 116.25it/s]"
          ],
          "name": "stderr"
        },
        {
          "output_type": "stream",
          "text": [
            "======> epoch: 16/120, Loss:0.046115558594465256\n",
            "Entering Epoch:  17\n"
          ],
          "name": "stdout"
        },
        {
          "output_type": "stream",
          "text": [
            "100%|██████████| 1875/1875 [00:13<00:00, 140.29it/s]\n",
            "  1%|          | 14/1875 [00:00<00:13, 137.81it/s]"
          ],
          "name": "stderr"
        },
        {
          "output_type": "stream",
          "text": [
            "======> epoch: 17/120, Loss:0.03918847441673279\n",
            "Entering Epoch:  18\n"
          ],
          "name": "stdout"
        },
        {
          "output_type": "stream",
          "text": [
            "100%|██████████| 1875/1875 [00:13<00:00, 135.77it/s]\n",
            "  1%|          | 14/1875 [00:00<00:13, 138.86it/s]"
          ],
          "name": "stderr"
        },
        {
          "output_type": "stream",
          "text": [
            "======> epoch: 18/120, Loss:0.03933500871062279\n",
            "Entering Epoch:  19\n"
          ],
          "name": "stdout"
        },
        {
          "output_type": "stream",
          "text": [
            "100%|██████████| 1875/1875 [00:13<00:00, 143.42it/s]\n",
            "  1%|          | 14/1875 [00:00<00:14, 132.26it/s]"
          ],
          "name": "stderr"
        },
        {
          "output_type": "stream",
          "text": [
            "======> epoch: 19/120, Loss:0.04311181232333183\n",
            "Entering Epoch:  20\n"
          ],
          "name": "stdout"
        },
        {
          "output_type": "stream",
          "text": [
            "100%|██████████| 1875/1875 [00:13<00:00, 140.23it/s]\n",
            "  1%|          | 14/1875 [00:00<00:13, 134.09it/s]"
          ],
          "name": "stderr"
        },
        {
          "output_type": "stream",
          "text": [
            "======> epoch: 20/120, Loss:0.038082387298345566\n",
            "Entering Epoch:  21\n"
          ],
          "name": "stdout"
        },
        {
          "output_type": "stream",
          "text": [
            "100%|██████████| 1875/1875 [00:13<00:00, 139.80it/s]\n",
            "  1%|          | 14/1875 [00:00<00:13, 136.07it/s]"
          ],
          "name": "stderr"
        },
        {
          "output_type": "stream",
          "text": [
            "======> epoch: 21/120, Loss:0.03792873024940491\n",
            "Entering Epoch:  22\n"
          ],
          "name": "stdout"
        },
        {
          "output_type": "stream",
          "text": [
            "100%|██████████| 1875/1875 [00:13<00:00, 134.39it/s]\n",
            "  1%|          | 12/1875 [00:00<00:16, 115.72it/s]"
          ],
          "name": "stderr"
        },
        {
          "output_type": "stream",
          "text": [
            "======> epoch: 22/120, Loss:0.03787040337920189\n",
            "Entering Epoch:  23\n"
          ],
          "name": "stdout"
        },
        {
          "output_type": "stream",
          "text": [
            "100%|██████████| 1875/1875 [00:12<00:00, 145.97it/s]\n",
            "  1%|          | 14/1875 [00:00<00:13, 134.82it/s]"
          ],
          "name": "stderr"
        },
        {
          "output_type": "stream",
          "text": [
            "======> epoch: 23/120, Loss:0.04096442833542824\n",
            "Entering Epoch:  24\n"
          ],
          "name": "stdout"
        },
        {
          "output_type": "stream",
          "text": [
            "100%|██████████| 1875/1875 [00:12<00:00, 146.34it/s]\n",
            "  1%|          | 13/1875 [00:00<00:14, 127.91it/s]"
          ],
          "name": "stderr"
        },
        {
          "output_type": "stream",
          "text": [
            "======> epoch: 24/120, Loss:0.03876926749944687\n",
            "Entering Epoch:  25\n"
          ],
          "name": "stdout"
        },
        {
          "output_type": "stream",
          "text": [
            "100%|██████████| 1875/1875 [00:14<00:00, 131.81it/s]\n",
            "  1%|          | 15/1875 [00:00<00:12, 143.95it/s]"
          ],
          "name": "stderr"
        },
        {
          "output_type": "stream",
          "text": [
            "======> epoch: 25/120, Loss:0.035967059433460236\n",
            "Entering Epoch:  26\n"
          ],
          "name": "stdout"
        },
        {
          "output_type": "stream",
          "text": [
            "100%|██████████| 1875/1875 [00:13<00:00, 140.33it/s]\n",
            "  1%|          | 14/1875 [00:00<00:14, 131.64it/s]"
          ],
          "name": "stderr"
        },
        {
          "output_type": "stream",
          "text": [
            "======> epoch: 26/120, Loss:0.03835727646946907\n",
            "Entering Epoch:  27\n"
          ],
          "name": "stdout"
        },
        {
          "output_type": "stream",
          "text": [
            "100%|██████████| 1875/1875 [00:13<00:00, 135.69it/s]\n",
            "  1%|          | 14/1875 [00:00<00:13, 139.72it/s]"
          ],
          "name": "stderr"
        },
        {
          "output_type": "stream",
          "text": [
            "======> epoch: 27/120, Loss:0.03594820201396942\n",
            "Entering Epoch:  28\n"
          ],
          "name": "stdout"
        },
        {
          "output_type": "stream",
          "text": [
            "100%|██████████| 1875/1875 [00:14<00:00, 128.96it/s]\n",
            "  1%|          | 13/1875 [00:00<00:14, 127.89it/s]"
          ],
          "name": "stderr"
        },
        {
          "output_type": "stream",
          "text": [
            "======> epoch: 28/120, Loss:0.036595940589904785\n",
            "Entering Epoch:  29\n"
          ],
          "name": "stdout"
        },
        {
          "output_type": "stream",
          "text": [
            "100%|██████████| 1875/1875 [00:14<00:00, 131.52it/s]\n",
            "  1%|          | 13/1875 [00:00<00:14, 125.81it/s]"
          ],
          "name": "stderr"
        },
        {
          "output_type": "stream",
          "text": [
            "======> epoch: 29/120, Loss:0.039768513292074203\n",
            "Entering Epoch:  30\n"
          ],
          "name": "stdout"
        },
        {
          "output_type": "stream",
          "text": [
            "100%|██████████| 1875/1875 [00:14<00:00, 130.56it/s]\n",
            "  1%|          | 13/1875 [00:00<00:14, 126.92it/s]"
          ],
          "name": "stderr"
        },
        {
          "output_type": "stream",
          "text": [
            "======> epoch: 30/120, Loss:0.030412830412387848\n",
            "Entering Epoch:  31\n"
          ],
          "name": "stdout"
        },
        {
          "output_type": "stream",
          "text": [
            "100%|██████████| 1875/1875 [00:14<00:00, 129.73it/s]\n",
            "  1%|          | 13/1875 [00:00<00:14, 126.66it/s]"
          ],
          "name": "stderr"
        },
        {
          "output_type": "stream",
          "text": [
            "======> epoch: 31/120, Loss:0.033342208713293076\n",
            "Entering Epoch:  32\n"
          ],
          "name": "stdout"
        },
        {
          "output_type": "stream",
          "text": [
            "100%|██████████| 1875/1875 [00:14<00:00, 130.13it/s]\n",
            "  1%|          | 10/1875 [00:00<00:19, 95.45it/s]"
          ],
          "name": "stderr"
        },
        {
          "output_type": "stream",
          "text": [
            "======> epoch: 32/120, Loss:0.03679276630282402\n",
            "Entering Epoch:  33\n"
          ],
          "name": "stdout"
        },
        {
          "output_type": "stream",
          "text": [
            "100%|██████████| 1875/1875 [00:14<00:00, 125.40it/s]\n",
            "  1%|          | 14/1875 [00:00<00:13, 133.21it/s]"
          ],
          "name": "stderr"
        },
        {
          "output_type": "stream",
          "text": [
            "======> epoch: 33/120, Loss:0.031338147819042206\n",
            "Entering Epoch:  34\n"
          ],
          "name": "stdout"
        },
        {
          "output_type": "stream",
          "text": [
            "100%|██████████| 1875/1875 [00:14<00:00, 130.87it/s]\n",
            "  1%|          | 13/1875 [00:00<00:14, 126.77it/s]"
          ],
          "name": "stderr"
        },
        {
          "output_type": "stream",
          "text": [
            "======> epoch: 34/120, Loss:0.03350548446178436\n",
            "Entering Epoch:  35\n"
          ],
          "name": "stdout"
        },
        {
          "output_type": "stream",
          "text": [
            "100%|██████████| 1875/1875 [00:14<00:00, 130.22it/s]\n",
            "  1%|          | 13/1875 [00:00<00:14, 124.87it/s]"
          ],
          "name": "stderr"
        },
        {
          "output_type": "stream",
          "text": [
            "======> epoch: 35/120, Loss:0.027809547260403633\n",
            "Entering Epoch:  36\n"
          ],
          "name": "stdout"
        },
        {
          "output_type": "stream",
          "text": [
            "100%|██████████| 1875/1875 [00:14<00:00, 130.63it/s]\n",
            "  1%|          | 12/1875 [00:00<00:15, 118.24it/s]"
          ],
          "name": "stderr"
        },
        {
          "output_type": "stream",
          "text": [
            "======> epoch: 36/120, Loss:0.035081349313259125\n",
            "Entering Epoch:  37\n"
          ],
          "name": "stdout"
        },
        {
          "output_type": "stream",
          "text": [
            "100%|██████████| 1875/1875 [00:14<00:00, 128.80it/s]\n",
            "  1%|          | 14/1875 [00:00<00:13, 138.19it/s]"
          ],
          "name": "stderr"
        },
        {
          "output_type": "stream",
          "text": [
            "======> epoch: 37/120, Loss:0.03334449976682663\n",
            "Entering Epoch:  38\n"
          ],
          "name": "stdout"
        },
        {
          "output_type": "stream",
          "text": [
            "100%|██████████| 1875/1875 [00:13<00:00, 136.60it/s]\n",
            "  1%|          | 14/1875 [00:00<00:13, 134.15it/s]"
          ],
          "name": "stderr"
        },
        {
          "output_type": "stream",
          "text": [
            "======> epoch: 38/120, Loss:0.032198466360569\n",
            "Entering Epoch:  39\n"
          ],
          "name": "stdout"
        },
        {
          "output_type": "stream",
          "text": [
            "100%|██████████| 1875/1875 [00:13<00:00, 136.60it/s]\n",
            "  1%|          | 14/1875 [00:00<00:13, 133.39it/s]"
          ],
          "name": "stderr"
        },
        {
          "output_type": "stream",
          "text": [
            "======> epoch: 39/120, Loss:0.03148077800869942\n",
            "Entering Epoch:  40\n"
          ],
          "name": "stdout"
        },
        {
          "output_type": "stream",
          "text": [
            "100%|██████████| 1875/1875 [00:14<00:00, 125.26it/s]\n",
            "  1%|          | 12/1875 [00:00<00:15, 119.90it/s]"
          ],
          "name": "stderr"
        },
        {
          "output_type": "stream",
          "text": [
            "======> epoch: 40/120, Loss:0.03296917676925659\n",
            "Entering Epoch:  41\n"
          ],
          "name": "stdout"
        },
        {
          "output_type": "stream",
          "text": [
            "100%|██████████| 1875/1875 [00:14<00:00, 126.44it/s]\n",
            "  1%|          | 13/1875 [00:00<00:14, 125.30it/s]"
          ],
          "name": "stderr"
        },
        {
          "output_type": "stream",
          "text": [
            "======> epoch: 41/120, Loss:0.033074751496315\n",
            "Entering Epoch:  42\n"
          ],
          "name": "stdout"
        },
        {
          "output_type": "stream",
          "text": [
            "100%|██████████| 1875/1875 [00:14<00:00, 133.63it/s]\n",
            "  1%|          | 12/1875 [00:00<00:15, 118.42it/s]"
          ],
          "name": "stderr"
        },
        {
          "output_type": "stream",
          "text": [
            "======> epoch: 42/120, Loss:0.026806367561221123\n",
            "Entering Epoch:  43\n"
          ],
          "name": "stdout"
        },
        {
          "output_type": "stream",
          "text": [
            "100%|██████████| 1875/1875 [00:13<00:00, 134.78it/s]\n",
            "  1%|          | 13/1875 [00:00<00:14, 129.79it/s]"
          ],
          "name": "stderr"
        },
        {
          "output_type": "stream",
          "text": [
            "======> epoch: 43/120, Loss:0.030488045886158943\n",
            "Entering Epoch:  44\n"
          ],
          "name": "stdout"
        },
        {
          "output_type": "stream",
          "text": [
            "100%|██████████| 1875/1875 [00:13<00:00, 135.53it/s]\n",
            "  1%|          | 15/1875 [00:00<00:12, 143.97it/s]"
          ],
          "name": "stderr"
        },
        {
          "output_type": "stream",
          "text": [
            "======> epoch: 44/120, Loss:0.03101782128214836\n",
            "Entering Epoch:  45\n"
          ],
          "name": "stdout"
        },
        {
          "output_type": "stream",
          "text": [
            "100%|██████████| 1875/1875 [00:13<00:00, 136.40it/s]\n",
            "  1%|          | 14/1875 [00:00<00:14, 132.17it/s]"
          ],
          "name": "stderr"
        },
        {
          "output_type": "stream",
          "text": [
            "======> epoch: 45/120, Loss:0.03301885351538658\n",
            "Entering Epoch:  46\n"
          ],
          "name": "stdout"
        },
        {
          "output_type": "stream",
          "text": [
            "100%|██████████| 1875/1875 [00:13<00:00, 135.86it/s]\n",
            "  1%|          | 13/1875 [00:00<00:14, 124.51it/s]"
          ],
          "name": "stderr"
        },
        {
          "output_type": "stream",
          "text": [
            "======> epoch: 46/120, Loss:0.02984663099050522\n",
            "Entering Epoch:  47\n"
          ],
          "name": "stdout"
        },
        {
          "output_type": "stream",
          "text": [
            "100%|██████████| 1875/1875 [00:14<00:00, 131.90it/s]\n",
            "  1%|          | 13/1875 [00:00<00:15, 120.40it/s]"
          ],
          "name": "stderr"
        },
        {
          "output_type": "stream",
          "text": [
            "======> epoch: 47/120, Loss:0.03226644545793533\n",
            "Entering Epoch:  48\n"
          ],
          "name": "stdout"
        },
        {
          "output_type": "stream",
          "text": [
            "100%|██████████| 1875/1875 [00:13<00:00, 135.18it/s]\n",
            "  1%|          | 15/1875 [00:00<00:12, 146.41it/s]"
          ],
          "name": "stderr"
        },
        {
          "output_type": "stream",
          "text": [
            "======> epoch: 48/120, Loss:0.026942763477563858\n",
            "Entering Epoch:  49\n"
          ],
          "name": "stdout"
        },
        {
          "output_type": "stream",
          "text": [
            "100%|██████████| 1875/1875 [00:14<00:00, 133.54it/s]\n",
            "  1%|          | 13/1875 [00:00<00:14, 129.45it/s]"
          ],
          "name": "stderr"
        },
        {
          "output_type": "stream",
          "text": [
            "======> epoch: 49/120, Loss:0.028122566640377045\n",
            "Entering Epoch:  50\n"
          ],
          "name": "stdout"
        },
        {
          "output_type": "stream",
          "text": [
            "100%|██████████| 1875/1875 [00:15<00:00, 120.64it/s]\n",
            "  1%|          | 14/1875 [00:00<00:13, 133.12it/s]"
          ],
          "name": "stderr"
        },
        {
          "output_type": "stream",
          "text": [
            "======> epoch: 50/120, Loss:0.032489486038684845\n",
            "Entering Epoch:  51\n"
          ],
          "name": "stdout"
        },
        {
          "output_type": "stream",
          "text": [
            "100%|██████████| 1875/1875 [00:15<00:00, 124.42it/s]\n",
            "  1%|          | 12/1875 [00:00<00:15, 118.52it/s]"
          ],
          "name": "stderr"
        },
        {
          "output_type": "stream",
          "text": [
            "======> epoch: 51/120, Loss:0.027188517153263092\n",
            "Entering Epoch:  52\n"
          ],
          "name": "stdout"
        },
        {
          "output_type": "stream",
          "text": [
            "100%|██████████| 1875/1875 [00:14<00:00, 129.88it/s]\n",
            "  1%|          | 13/1875 [00:00<00:14, 126.93it/s]"
          ],
          "name": "stderr"
        },
        {
          "output_type": "stream",
          "text": [
            "======> epoch: 52/120, Loss:0.026840534061193466\n",
            "Entering Epoch:  53\n"
          ],
          "name": "stdout"
        },
        {
          "output_type": "stream",
          "text": [
            "100%|██████████| 1875/1875 [00:14<00:00, 125.71it/s]\n",
            "  1%|          | 14/1875 [00:00<00:13, 133.50it/s]"
          ],
          "name": "stderr"
        },
        {
          "output_type": "stream",
          "text": [
            "======> epoch: 53/120, Loss:0.02796582132577896\n",
            "Entering Epoch:  54\n"
          ],
          "name": "stdout"
        },
        {
          "output_type": "stream",
          "text": [
            "100%|██████████| 1875/1875 [00:15<00:00, 123.98it/s]\n",
            "  1%|          | 12/1875 [00:00<00:15, 119.88it/s]"
          ],
          "name": "stderr"
        },
        {
          "output_type": "stream",
          "text": [
            "======> epoch: 54/120, Loss:0.026841385290026665\n",
            "Entering Epoch:  55\n"
          ],
          "name": "stdout"
        },
        {
          "output_type": "stream",
          "text": [
            "100%|██████████| 1875/1875 [00:14<00:00, 128.21it/s]\n",
            "  1%|          | 14/1875 [00:00<00:13, 135.42it/s]"
          ],
          "name": "stderr"
        },
        {
          "output_type": "stream",
          "text": [
            "======> epoch: 55/120, Loss:0.030861621722579002\n",
            "Entering Epoch:  56\n"
          ],
          "name": "stdout"
        },
        {
          "output_type": "stream",
          "text": [
            "100%|██████████| 1875/1875 [00:14<00:00, 131.49it/s]\n",
            "  1%|          | 13/1875 [00:00<00:14, 127.03it/s]"
          ],
          "name": "stderr"
        },
        {
          "output_type": "stream",
          "text": [
            "======> epoch: 56/120, Loss:0.03170158341526985\n",
            "Entering Epoch:  57\n"
          ],
          "name": "stdout"
        },
        {
          "output_type": "stream",
          "text": [
            "100%|██████████| 1875/1875 [00:14<00:00, 128.18it/s]\n",
            "  1%|          | 14/1875 [00:00<00:14, 132.41it/s]"
          ],
          "name": "stderr"
        },
        {
          "output_type": "stream",
          "text": [
            "======> epoch: 57/120, Loss:0.027990087866783142\n",
            "Entering Epoch:  58\n"
          ],
          "name": "stdout"
        },
        {
          "output_type": "stream",
          "text": [
            "100%|██████████| 1875/1875 [00:14<00:00, 128.43it/s]\n",
            "  1%|          | 12/1875 [00:00<00:16, 114.78it/s]"
          ],
          "name": "stderr"
        },
        {
          "output_type": "stream",
          "text": [
            "======> epoch: 58/120, Loss:0.02624969184398651\n",
            "Entering Epoch:  59\n"
          ],
          "name": "stdout"
        },
        {
          "output_type": "stream",
          "text": [
            "100%|██████████| 1875/1875 [00:14<00:00, 125.24it/s]\n",
            "  1%|          | 13/1875 [00:00<00:15, 122.14it/s]"
          ],
          "name": "stderr"
        },
        {
          "output_type": "stream",
          "text": [
            "======> epoch: 59/120, Loss:0.03171001374721527\n",
            "Entering Epoch:  60\n"
          ],
          "name": "stdout"
        },
        {
          "output_type": "stream",
          "text": [
            "100%|██████████| 1875/1875 [00:14<00:00, 133.74it/s]\n",
            "  1%|          | 13/1875 [00:00<00:14, 126.78it/s]"
          ],
          "name": "stderr"
        },
        {
          "output_type": "stream",
          "text": [
            "======> epoch: 60/120, Loss:0.029582856222987175\n",
            "Entering Epoch:  61\n"
          ],
          "name": "stdout"
        },
        {
          "output_type": "stream",
          "text": [
            "100%|██████████| 1875/1875 [00:14<00:00, 133.66it/s]\n",
            "  1%|          | 13/1875 [00:00<00:14, 128.13it/s]"
          ],
          "name": "stderr"
        },
        {
          "output_type": "stream",
          "text": [
            "======> epoch: 61/120, Loss:0.030450789257884026\n",
            "Entering Epoch:  62\n"
          ],
          "name": "stdout"
        },
        {
          "output_type": "stream",
          "text": [
            "100%|██████████| 1875/1875 [00:14<00:00, 130.62it/s]\n",
            "  1%|          | 13/1875 [00:00<00:14, 124.90it/s]"
          ],
          "name": "stderr"
        },
        {
          "output_type": "stream",
          "text": [
            "======> epoch: 62/120, Loss:0.029638638719916344\n",
            "Entering Epoch:  63\n"
          ],
          "name": "stdout"
        },
        {
          "output_type": "stream",
          "text": [
            "100%|██████████| 1875/1875 [00:14<00:00, 125.25it/s]\n",
            "  1%|          | 13/1875 [00:00<00:15, 122.19it/s]"
          ],
          "name": "stderr"
        },
        {
          "output_type": "stream",
          "text": [
            "======> epoch: 63/120, Loss:0.02794043906033039\n",
            "Entering Epoch:  64\n"
          ],
          "name": "stdout"
        },
        {
          "output_type": "stream",
          "text": [
            "100%|██████████| 1875/1875 [00:13<00:00, 134.59it/s]\n",
            "  1%|          | 14/1875 [00:00<00:13, 133.44it/s]"
          ],
          "name": "stderr"
        },
        {
          "output_type": "stream",
          "text": [
            "======> epoch: 64/120, Loss:0.026989245787262917\n",
            "Entering Epoch:  65\n"
          ],
          "name": "stdout"
        },
        {
          "output_type": "stream",
          "text": [
            "100%|██████████| 1875/1875 [00:14<00:00, 131.54it/s]\n",
            "  1%|          | 13/1875 [00:00<00:14, 129.96it/s]"
          ],
          "name": "stderr"
        },
        {
          "output_type": "stream",
          "text": [
            "======> epoch: 65/120, Loss:0.027833761647343636\n",
            "Entering Epoch:  66\n"
          ],
          "name": "stdout"
        },
        {
          "output_type": "stream",
          "text": [
            "100%|██████████| 1875/1875 [00:13<00:00, 134.65it/s]\n",
            "  1%|          | 14/1875 [00:00<00:13, 135.79it/s]"
          ],
          "name": "stderr"
        },
        {
          "output_type": "stream",
          "text": [
            "======> epoch: 66/120, Loss:0.030930863693356514\n",
            "Entering Epoch:  67\n"
          ],
          "name": "stdout"
        },
        {
          "output_type": "stream",
          "text": [
            "100%|██████████| 1875/1875 [00:15<00:00, 119.37it/s]\n",
            "  1%|          | 14/1875 [00:00<00:13, 134.96it/s]"
          ],
          "name": "stderr"
        },
        {
          "output_type": "stream",
          "text": [
            "======> epoch: 67/120, Loss:0.02531440369784832\n",
            "Entering Epoch:  68\n"
          ],
          "name": "stdout"
        },
        {
          "output_type": "stream",
          "text": [
            "100%|██████████| 1875/1875 [00:14<00:00, 131.65it/s]\n",
            "  1%|          | 13/1875 [00:00<00:14, 127.41it/s]"
          ],
          "name": "stderr"
        },
        {
          "output_type": "stream",
          "text": [
            "======> epoch: 68/120, Loss:0.02740127220749855\n",
            "Entering Epoch:  69\n"
          ],
          "name": "stdout"
        },
        {
          "output_type": "stream",
          "text": [
            "100%|██████████| 1875/1875 [00:15<00:00, 123.80it/s]\n",
            "  1%|          | 13/1875 [00:00<00:15, 122.35it/s]"
          ],
          "name": "stderr"
        },
        {
          "output_type": "stream",
          "text": [
            "======> epoch: 69/120, Loss:0.027579134330153465\n",
            "Entering Epoch:  70\n"
          ],
          "name": "stdout"
        },
        {
          "output_type": "stream",
          "text": [
            "100%|██████████| 1875/1875 [00:14<00:00, 131.53it/s]\n",
            "  1%|          | 11/1875 [00:00<00:18, 103.19it/s]"
          ],
          "name": "stderr"
        },
        {
          "output_type": "stream",
          "text": [
            "======> epoch: 70/120, Loss:0.027055896818637848\n",
            "Entering Epoch:  71\n"
          ],
          "name": "stdout"
        },
        {
          "output_type": "stream",
          "text": [
            "100%|██████████| 1875/1875 [00:14<00:00, 131.18it/s]\n",
            "  1%|          | 13/1875 [00:00<00:14, 124.43it/s]"
          ],
          "name": "stderr"
        },
        {
          "output_type": "stream",
          "text": [
            "======> epoch: 71/120, Loss:0.02910572662949562\n",
            "Entering Epoch:  72\n"
          ],
          "name": "stdout"
        },
        {
          "output_type": "stream",
          "text": [
            "100%|██████████| 1875/1875 [00:14<00:00, 131.56it/s]\n",
            "  1%|          | 13/1875 [00:00<00:14, 125.79it/s]"
          ],
          "name": "stderr"
        },
        {
          "output_type": "stream",
          "text": [
            "======> epoch: 72/120, Loss:0.029532991349697113\n",
            "Entering Epoch:  73\n"
          ],
          "name": "stdout"
        },
        {
          "output_type": "stream",
          "text": [
            "100%|██████████| 1875/1875 [00:14<00:00, 129.26it/s]\n",
            "  1%|          | 13/1875 [00:00<00:14, 125.52it/s]"
          ],
          "name": "stderr"
        },
        {
          "output_type": "stream",
          "text": [
            "======> epoch: 73/120, Loss:0.029182277619838715\n",
            "Entering Epoch:  74\n"
          ],
          "name": "stdout"
        },
        {
          "output_type": "stream",
          "text": [
            "100%|██████████| 1875/1875 [00:14<00:00, 131.24it/s]\n",
            "  1%|          | 13/1875 [00:00<00:14, 128.01it/s]"
          ],
          "name": "stderr"
        },
        {
          "output_type": "stream",
          "text": [
            "======> epoch: 74/120, Loss:0.026421111077070236\n",
            "Entering Epoch:  75\n"
          ],
          "name": "stdout"
        },
        {
          "output_type": "stream",
          "text": [
            "100%|██████████| 1875/1875 [00:14<00:00, 130.98it/s]\n",
            "  1%|          | 13/1875 [00:00<00:14, 126.09it/s]"
          ],
          "name": "stderr"
        },
        {
          "output_type": "stream",
          "text": [
            "======> epoch: 75/120, Loss:0.02665863186120987\n",
            "Entering Epoch:  76\n"
          ],
          "name": "stdout"
        },
        {
          "output_type": "stream",
          "text": [
            "100%|██████████| 1875/1875 [00:14<00:00, 131.24it/s]\n",
            "  1%|          | 13/1875 [00:00<00:14, 125.76it/s]"
          ],
          "name": "stderr"
        },
        {
          "output_type": "stream",
          "text": [
            "======> epoch: 76/120, Loss:0.02383933961391449\n",
            "Entering Epoch:  77\n"
          ],
          "name": "stdout"
        },
        {
          "output_type": "stream",
          "text": [
            "100%|██████████| 1875/1875 [00:14<00:00, 131.76it/s]\n",
            "  1%|          | 12/1875 [00:00<00:16, 111.16it/s]"
          ],
          "name": "stderr"
        },
        {
          "output_type": "stream",
          "text": [
            "======> epoch: 77/120, Loss:0.025645989924669266\n",
            "Entering Epoch:  78\n"
          ],
          "name": "stdout"
        },
        {
          "output_type": "stream",
          "text": [
            "100%|██████████| 1875/1875 [00:14<00:00, 133.79it/s]\n",
            "  1%|          | 14/1875 [00:00<00:13, 134.93it/s]"
          ],
          "name": "stderr"
        },
        {
          "output_type": "stream",
          "text": [
            "======> epoch: 78/120, Loss:0.026404602453112602\n",
            "Entering Epoch:  79\n"
          ],
          "name": "stdout"
        },
        {
          "output_type": "stream",
          "text": [
            "100%|██████████| 1875/1875 [00:13<00:00, 135.92it/s]\n",
            "  1%|          | 14/1875 [00:00<00:13, 136.80it/s]"
          ],
          "name": "stderr"
        },
        {
          "output_type": "stream",
          "text": [
            "======> epoch: 79/120, Loss:0.026165591552853584\n",
            "Entering Epoch:  80\n"
          ],
          "name": "stdout"
        },
        {
          "output_type": "stream",
          "text": [
            "100%|██████████| 1875/1875 [00:13<00:00, 136.73it/s]\n",
            "  1%|          | 13/1875 [00:00<00:15, 122.31it/s]"
          ],
          "name": "stderr"
        },
        {
          "output_type": "stream",
          "text": [
            "======> epoch: 80/120, Loss:0.028156444430351257\n",
            "Entering Epoch:  81\n"
          ],
          "name": "stdout"
        },
        {
          "output_type": "stream",
          "text": [
            "100%|██████████| 1875/1875 [00:13<00:00, 138.49it/s]\n",
            "  1%|          | 14/1875 [00:00<00:14, 132.58it/s]"
          ],
          "name": "stderr"
        },
        {
          "output_type": "stream",
          "text": [
            "======> epoch: 81/120, Loss:0.02646087110042572\n",
            "Entering Epoch:  82\n"
          ],
          "name": "stdout"
        },
        {
          "output_type": "stream",
          "text": [
            "100%|██████████| 1875/1875 [00:13<00:00, 136.32it/s]\n",
            "  1%|          | 14/1875 [00:00<00:13, 139.55it/s]"
          ],
          "name": "stderr"
        },
        {
          "output_type": "stream",
          "text": [
            "======> epoch: 82/120, Loss:0.024330152198672295\n",
            "Entering Epoch:  83\n"
          ],
          "name": "stdout"
        },
        {
          "output_type": "stream",
          "text": [
            "100%|██████████| 1875/1875 [00:13<00:00, 138.03it/s]\n",
            "  1%|          | 14/1875 [00:00<00:13, 135.96it/s]"
          ],
          "name": "stderr"
        },
        {
          "output_type": "stream",
          "text": [
            "======> epoch: 83/120, Loss:0.025489648804068565\n",
            "Entering Epoch:  84\n"
          ],
          "name": "stdout"
        },
        {
          "output_type": "stream",
          "text": [
            "100%|██████████| 1875/1875 [00:13<00:00, 138.71it/s]\n",
            "  1%|          | 13/1875 [00:00<00:14, 129.89it/s]"
          ],
          "name": "stderr"
        },
        {
          "output_type": "stream",
          "text": [
            "======> epoch: 84/120, Loss:0.02928599715232849\n",
            "Entering Epoch:  85\n"
          ],
          "name": "stdout"
        },
        {
          "output_type": "stream",
          "text": [
            "100%|██████████| 1875/1875 [00:13<00:00, 135.81it/s]\n",
            "  1%|          | 13/1875 [00:00<00:15, 122.54it/s]"
          ],
          "name": "stderr"
        },
        {
          "output_type": "stream",
          "text": [
            "======> epoch: 85/120, Loss:0.024828536435961723\n",
            "Entering Epoch:  86\n"
          ],
          "name": "stdout"
        },
        {
          "output_type": "stream",
          "text": [
            "100%|██████████| 1875/1875 [00:13<00:00, 138.37it/s]\n",
            "  1%|          | 15/1875 [00:00<00:13, 142.14it/s]"
          ],
          "name": "stderr"
        },
        {
          "output_type": "stream",
          "text": [
            "======> epoch: 86/120, Loss:0.02515496127307415\n",
            "Entering Epoch:  87\n"
          ],
          "name": "stdout"
        },
        {
          "output_type": "stream",
          "text": [
            "100%|██████████| 1875/1875 [00:13<00:00, 137.77it/s]\n",
            "  1%|          | 14/1875 [00:00<00:14, 130.82it/s]"
          ],
          "name": "stderr"
        },
        {
          "output_type": "stream",
          "text": [
            "======> epoch: 87/120, Loss:0.029436606913805008\n",
            "Entering Epoch:  88\n"
          ],
          "name": "stdout"
        },
        {
          "output_type": "stream",
          "text": [
            "100%|██████████| 1875/1875 [00:13<00:00, 135.91it/s]\n",
            "  1%|          | 16/1875 [00:00<00:12, 151.10it/s]"
          ],
          "name": "stderr"
        },
        {
          "output_type": "stream",
          "text": [
            "======> epoch: 88/120, Loss:0.025549031794071198\n",
            "Entering Epoch:  89\n"
          ],
          "name": "stdout"
        },
        {
          "output_type": "stream",
          "text": [
            "100%|██████████| 1875/1875 [00:13<00:00, 139.44it/s]\n",
            "  1%|          | 14/1875 [00:00<00:13, 136.03it/s]"
          ],
          "name": "stderr"
        },
        {
          "output_type": "stream",
          "text": [
            "======> epoch: 89/120, Loss:0.025611326098442078\n",
            "Entering Epoch:  90\n"
          ],
          "name": "stdout"
        },
        {
          "output_type": "stream",
          "text": [
            "100%|██████████| 1875/1875 [00:13<00:00, 135.33it/s]\n",
            "  1%|          | 14/1875 [00:00<00:13, 137.77it/s]"
          ],
          "name": "stderr"
        },
        {
          "output_type": "stream",
          "text": [
            "======> epoch: 90/120, Loss:0.021191325038671494\n",
            "Entering Epoch:  91\n"
          ],
          "name": "stdout"
        },
        {
          "output_type": "stream",
          "text": [
            "100%|██████████| 1875/1875 [00:13<00:00, 137.74it/s]\n",
            "  1%|          | 15/1875 [00:00<00:13, 142.47it/s]"
          ],
          "name": "stderr"
        },
        {
          "output_type": "stream",
          "text": [
            "======> epoch: 91/120, Loss:0.027545863762497902\n",
            "Entering Epoch:  92\n"
          ],
          "name": "stdout"
        },
        {
          "output_type": "stream",
          "text": [
            "100%|██████████| 1875/1875 [00:13<00:00, 141.15it/s]\n",
            "  1%|          | 14/1875 [00:00<00:13, 139.11it/s]"
          ],
          "name": "stderr"
        },
        {
          "output_type": "stream",
          "text": [
            "======> epoch: 92/120, Loss:0.026861516758799553\n",
            "Entering Epoch:  93\n"
          ],
          "name": "stdout"
        },
        {
          "output_type": "stream",
          "text": [
            "100%|██████████| 1875/1875 [00:13<00:00, 142.65it/s]\n",
            "  1%|          | 15/1875 [00:00<00:12, 143.28it/s]"
          ],
          "name": "stderr"
        },
        {
          "output_type": "stream",
          "text": [
            "======> epoch: 93/120, Loss:0.02385450340807438\n",
            "Entering Epoch:  94\n"
          ],
          "name": "stdout"
        },
        {
          "output_type": "stream",
          "text": [
            "100%|██████████| 1875/1875 [00:13<00:00, 142.42it/s]\n",
            "  1%|          | 13/1875 [00:00<00:15, 122.30it/s]"
          ],
          "name": "stderr"
        },
        {
          "output_type": "stream",
          "text": [
            "======> epoch: 94/120, Loss:0.022495916113257408\n",
            "Entering Epoch:  95\n"
          ],
          "name": "stdout"
        },
        {
          "output_type": "stream",
          "text": [
            "100%|██████████| 1875/1875 [00:12<00:00, 144.76it/s]\n",
            "  1%|          | 14/1875 [00:00<00:13, 139.96it/s]"
          ],
          "name": "stderr"
        },
        {
          "output_type": "stream",
          "text": [
            "======> epoch: 95/120, Loss:0.02676970884203911\n",
            "Entering Epoch:  96\n"
          ],
          "name": "stdout"
        },
        {
          "output_type": "stream",
          "text": [
            "100%|██████████| 1875/1875 [00:12<00:00, 144.74it/s]\n",
            "  1%|          | 13/1875 [00:00<00:14, 129.75it/s]"
          ],
          "name": "stderr"
        },
        {
          "output_type": "stream",
          "text": [
            "======> epoch: 96/120, Loss:0.025168895721435547\n",
            "Entering Epoch:  97\n"
          ],
          "name": "stdout"
        },
        {
          "output_type": "stream",
          "text": [
            "100%|██████████| 1875/1875 [00:12<00:00, 145.64it/s]\n",
            "  1%|          | 14/1875 [00:00<00:13, 139.87it/s]"
          ],
          "name": "stderr"
        },
        {
          "output_type": "stream",
          "text": [
            "======> epoch: 97/120, Loss:0.021699000149965286\n",
            "Entering Epoch:  98\n"
          ],
          "name": "stdout"
        },
        {
          "output_type": "stream",
          "text": [
            "100%|██████████| 1875/1875 [00:13<00:00, 141.04it/s]\n",
            "  1%|          | 12/1875 [00:00<00:16, 115.37it/s]"
          ],
          "name": "stderr"
        },
        {
          "output_type": "stream",
          "text": [
            "======> epoch: 98/120, Loss:0.02692207507789135\n",
            "Entering Epoch:  99\n"
          ],
          "name": "stdout"
        },
        {
          "output_type": "stream",
          "text": [
            "100%|██████████| 1875/1875 [00:13<00:00, 141.61it/s]\n",
            "  1%|          | 14/1875 [00:00<00:13, 132.97it/s]"
          ],
          "name": "stderr"
        },
        {
          "output_type": "stream",
          "text": [
            "======> epoch: 99/120, Loss:0.025918878614902496\n",
            "Entering Epoch:  100\n"
          ],
          "name": "stdout"
        },
        {
          "output_type": "stream",
          "text": [
            "100%|██████████| 1875/1875 [00:13<00:00, 141.66it/s]\n",
            "  1%|          | 15/1875 [00:00<00:13, 142.47it/s]"
          ],
          "name": "stderr"
        },
        {
          "output_type": "stream",
          "text": [
            "======> epoch: 100/120, Loss:0.02890481799840927\n",
            "Entering Epoch:  101\n"
          ],
          "name": "stdout"
        },
        {
          "output_type": "stream",
          "text": [
            "100%|██████████| 1875/1875 [00:13<00:00, 142.77it/s]\n",
            "  1%|          | 13/1875 [00:00<00:14, 127.57it/s]"
          ],
          "name": "stderr"
        },
        {
          "output_type": "stream",
          "text": [
            "======> epoch: 101/120, Loss:0.027479737997055054\n",
            "Entering Epoch:  102\n"
          ],
          "name": "stdout"
        },
        {
          "output_type": "stream",
          "text": [
            "100%|██████████| 1875/1875 [00:13<00:00, 142.68it/s]\n",
            "  1%|          | 15/1875 [00:00<00:12, 143.94it/s]"
          ],
          "name": "stderr"
        },
        {
          "output_type": "stream",
          "text": [
            "======> epoch: 102/120, Loss:0.0239412859082222\n",
            "Entering Epoch:  103\n"
          ],
          "name": "stdout"
        },
        {
          "output_type": "stream",
          "text": [
            "100%|██████████| 1875/1875 [00:13<00:00, 140.72it/s]\n",
            "  1%|          | 15/1875 [00:00<00:12, 147.15it/s]"
          ],
          "name": "stderr"
        },
        {
          "output_type": "stream",
          "text": [
            "======> epoch: 103/120, Loss:0.02598128281533718\n",
            "Entering Epoch:  104\n"
          ],
          "name": "stdout"
        },
        {
          "output_type": "stream",
          "text": [
            "100%|██████████| 1875/1875 [00:13<00:00, 142.46it/s]\n",
            "  1%|          | 15/1875 [00:00<00:13, 141.86it/s]"
          ],
          "name": "stderr"
        },
        {
          "output_type": "stream",
          "text": [
            "======> epoch: 104/120, Loss:0.025640787556767464\n",
            "Entering Epoch:  105\n"
          ],
          "name": "stdout"
        },
        {
          "output_type": "stream",
          "text": [
            "100%|██████████| 1875/1875 [00:13<00:00, 142.43it/s]\n",
            "  1%|          | 14/1875 [00:00<00:13, 133.60it/s]"
          ],
          "name": "stderr"
        },
        {
          "output_type": "stream",
          "text": [
            "======> epoch: 105/120, Loss:0.023611973971128464\n",
            "Entering Epoch:  106\n"
          ],
          "name": "stdout"
        },
        {
          "output_type": "stream",
          "text": [
            "100%|██████████| 1875/1875 [00:13<00:00, 140.00it/s]\n",
            "  1%|          | 14/1875 [00:00<00:14, 129.80it/s]"
          ],
          "name": "stderr"
        },
        {
          "output_type": "stream",
          "text": [
            "======> epoch: 106/120, Loss:0.026524612680077553\n",
            "Entering Epoch:  107\n"
          ],
          "name": "stdout"
        },
        {
          "output_type": "stream",
          "text": [
            "100%|██████████| 1875/1875 [00:13<00:00, 138.97it/s]\n",
            "  1%|          | 14/1875 [00:00<00:13, 137.59it/s]"
          ],
          "name": "stderr"
        },
        {
          "output_type": "stream",
          "text": [
            "======> epoch: 107/120, Loss:0.024700744077563286\n",
            "Entering Epoch:  108\n"
          ],
          "name": "stdout"
        },
        {
          "output_type": "stream",
          "text": [
            "100%|██████████| 1875/1875 [00:13<00:00, 139.44it/s]\n",
            "  1%|          | 14/1875 [00:00<00:13, 133.04it/s]"
          ],
          "name": "stderr"
        },
        {
          "output_type": "stream",
          "text": [
            "======> epoch: 108/120, Loss:0.02533978782594204\n",
            "Entering Epoch:  109\n"
          ],
          "name": "stdout"
        },
        {
          "output_type": "stream",
          "text": [
            "100%|██████████| 1875/1875 [00:13<00:00, 137.55it/s]\n",
            "  1%|          | 14/1875 [00:00<00:14, 132.57it/s]"
          ],
          "name": "stderr"
        },
        {
          "output_type": "stream",
          "text": [
            "======> epoch: 109/120, Loss:0.024778911843895912\n",
            "Entering Epoch:  110\n"
          ],
          "name": "stdout"
        },
        {
          "output_type": "stream",
          "text": [
            "100%|██████████| 1875/1875 [00:13<00:00, 142.79it/s]\n",
            "  1%|          | 13/1875 [00:00<00:14, 129.55it/s]"
          ],
          "name": "stderr"
        },
        {
          "output_type": "stream",
          "text": [
            "======> epoch: 110/120, Loss:0.02427179552614689\n",
            "Entering Epoch:  111\n"
          ],
          "name": "stdout"
        },
        {
          "output_type": "stream",
          "text": [
            "100%|██████████| 1875/1875 [00:12<00:00, 145.06it/s]\n",
            "  1%|          | 15/1875 [00:00<00:13, 142.98it/s]"
          ],
          "name": "stderr"
        },
        {
          "output_type": "stream",
          "text": [
            "======> epoch: 111/120, Loss:0.02724272385239601\n",
            "Entering Epoch:  112\n"
          ],
          "name": "stdout"
        },
        {
          "output_type": "stream",
          "text": [
            "100%|██████████| 1875/1875 [00:12<00:00, 145.94it/s]\n",
            "  1%|          | 15/1875 [00:00<00:12, 146.89it/s]"
          ],
          "name": "stderr"
        },
        {
          "output_type": "stream",
          "text": [
            "======> epoch: 112/120, Loss:0.025939742103219032\n",
            "Entering Epoch:  113\n"
          ],
          "name": "stdout"
        },
        {
          "output_type": "stream",
          "text": [
            "100%|██████████| 1875/1875 [00:12<00:00, 152.17it/s]\n",
            "  1%|          | 14/1875 [00:00<00:13, 138.99it/s]"
          ],
          "name": "stderr"
        },
        {
          "output_type": "stream",
          "text": [
            "======> epoch: 113/120, Loss:0.025211431086063385\n",
            "Entering Epoch:  114\n"
          ],
          "name": "stdout"
        },
        {
          "output_type": "stream",
          "text": [
            "100%|██████████| 1875/1875 [00:12<00:00, 154.45it/s]\n",
            "  1%|          | 16/1875 [00:00<00:12, 154.32it/s]"
          ],
          "name": "stderr"
        },
        {
          "output_type": "stream",
          "text": [
            "======> epoch: 114/120, Loss:0.023597819730639458\n",
            "Entering Epoch:  115\n"
          ],
          "name": "stdout"
        },
        {
          "output_type": "stream",
          "text": [
            "100%|██████████| 1875/1875 [00:12<00:00, 154.16it/s]\n",
            "  1%|          | 14/1875 [00:00<00:13, 139.95it/s]"
          ],
          "name": "stderr"
        },
        {
          "output_type": "stream",
          "text": [
            "======> epoch: 115/120, Loss:0.022066619247198105\n",
            "Entering Epoch:  116\n"
          ],
          "name": "stdout"
        },
        {
          "output_type": "stream",
          "text": [
            "100%|██████████| 1875/1875 [00:12<00:00, 153.51it/s]\n",
            "  1%|          | 16/1875 [00:00<00:11, 156.35it/s]"
          ],
          "name": "stderr"
        },
        {
          "output_type": "stream",
          "text": [
            "======> epoch: 116/120, Loss:0.02377207949757576\n",
            "Entering Epoch:  117\n"
          ],
          "name": "stdout"
        },
        {
          "output_type": "stream",
          "text": [
            "100%|██████████| 1875/1875 [00:12<00:00, 153.45it/s]\n",
            "  1%|          | 14/1875 [00:00<00:13, 137.90it/s]"
          ],
          "name": "stderr"
        },
        {
          "output_type": "stream",
          "text": [
            "======> epoch: 117/120, Loss:0.024058736860752106\n",
            "Entering Epoch:  118\n"
          ],
          "name": "stdout"
        },
        {
          "output_type": "stream",
          "text": [
            "100%|██████████| 1875/1875 [00:12<00:00, 153.33it/s]\n",
            "  1%|          | 13/1875 [00:00<00:14, 126.31it/s]"
          ],
          "name": "stderr"
        },
        {
          "output_type": "stream",
          "text": [
            "======> epoch: 118/120, Loss:0.027325334027409554\n",
            "Entering Epoch:  119\n"
          ],
          "name": "stdout"
        },
        {
          "output_type": "stream",
          "text": [
            "100%|██████████| 1875/1875 [00:12<00:00, 152.38it/s]"
          ],
          "name": "stderr"
        },
        {
          "output_type": "stream",
          "text": [
            "======> epoch: 119/120, Loss:0.025885485112667084\n"
          ],
          "name": "stdout"
        },
        {
          "output_type": "stream",
          "text": [
            "\n"
          ],
          "name": "stderr"
        }
      ]
    },
    {
      "cell_type": "code",
      "metadata": {
        "id": "w7Aa0DqlCou-",
        "colab_type": "code",
        "colab": {
          "base_uri": "https://localhost:8080/",
          "height": 282
        },
        "outputId": "c46d2bf8-f2ff-4e75-bfc2-050b6cacecc1"
      },
      "source": [
        "plt.plot(range(len(losslist)),losslist)"
      ],
      "execution_count": 12,
      "outputs": [
        {
          "output_type": "execute_result",
          "data": {
            "text/plain": [
              "[<matplotlib.lines.Line2D at 0x7f2e4038e438>]"
            ]
          },
          "metadata": {
            "tags": []
          },
          "execution_count": 12
        },
        {
          "output_type": "display_data",
          "data": {
            "image/png": "[encoded data removed]",
            "text/plain": [
              "<Figure size 432x288 with 1 Axes>"
            ]
          },
          "metadata": {
            "tags": [],
            "needs_background": "light"
          }
        }
      ]
    },
    {
      "cell_type": "code",
      "metadata": {
        "id": "AX86xTzFC3tK",
        "colab_type": "code",
        "colab": {
          "base_uri": "https://localhost:8080/",
          "height": 1000
        },
        "outputId": "6393a834-77bc-4130-860d-f865184901da"
      },
      "source": [
        "\"\"\"Here, we try to visualize some of the results.\n",
        "  We randomly generate 6 numbers in between 1 and 10k , run them through the model,\n",
        "  and show the results with comparisons\n",
        "  \n",
        " \"\"\"\n",
        "\n",
        "\n",
        "\n",
        "\n",
        "f,axes= plt.subplots(6,3,figsize=(20,20))\n",
        "axes[0,0].set_title(\"Original Image\")\n",
        "axes[0,1].set_title(\"Dirty Image\")\n",
        "axes[0,2].set_title(\"Cleaned Image\")\n",
        "\n",
        "test_imgs=np.random.randint(0,10000,size=6)\n",
        "for idx in range((6)):\n",
        "  dirty=testset[test_imgs[idx]][0]\n",
        "  clean=testset[test_imgs[idx]][1]\n",
        "  label=testset[test_imgs[idx]][2]\n",
        "  dirty=dirty.view(dirty.size(0),-1).type(torch.FloatTensor)\n",
        "  dirty=dirty.to(device)\n",
        "  output=model(dirty)\n",
        "  \n",
        "  output=output.view(1,28,28)\n",
        "  output=output.permute(1,2,0).squeeze(2)\n",
        "  output=output.detach().cpu().numpy()\n",
        "  \n",
        "  dirty=dirty.view(1,28,28)\n",
        "  dirty=dirty.permute(1,2,0).squeeze(2)\n",
        "  dirty=dirty.detach().cpu().numpy()\n",
        "  \n",
        "  clean=clean.permute(1,2,0).squeeze(2)\n",
        "  clean=clean.detach().cpu().numpy()\n",
        "  \n",
        "  axes[idx,0].imshow(clean,cmap=\"gray\")\n",
        "  axes[idx,1].imshow(dirty,cmap=\"gray\")\n",
        "  axes[idx,2].imshow(output,cmap=\"gray\")"
      ],
      "execution_count": 13,
      "outputs": [
        {
          "output_type": "display_data",
          "data": {
            "image/png": "[encoded data removed]",
            "text/plain": [
              "<Figure size 1440x1440 with 18 Axes>"
            ]
          },
          "metadata": {
            "tags": [],
            "needs_background": "light"
          }
        }
      ]
    }
  ]
}